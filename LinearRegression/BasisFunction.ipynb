{
 "cells": [
  {
   "cell_type": "code",
   "execution_count": 1,
   "metadata": {},
   "outputs": [],
   "source": [
    "import numpy as np"
   ]
  },
  {
   "cell_type": "code",
   "execution_count": 63,
   "metadata": {},
   "outputs": [],
   "source": [
    "class utils:\n",
    "    \n",
    "    @staticmethod\n",
    "    def colPower(x, col, deg):\n",
    "        N = len(x)\n",
    "        return np.power(x[:, col].reshape(N, 1), deg)"
   ]
  },
  {
   "cell_type": "code",
   "execution_count": 70,
   "metadata": {},
   "outputs": [],
   "source": [
    "class BaseBasicFunction:\n",
    "    def __init__(self, x, featureFunc): #x: N rows, K features\n",
    "        self.x = x\n",
    "        self.totalDegree = len(featureFunc) + 1\n",
    "        self.N = len(x)\n",
    "        self.K = len(x[0])\n",
    "        self.featureFunc = featureFunc\n",
    "\n",
    "    def _evaluate(self, degree):\n",
    "        if degree == 0:\n",
    "            return np.ones((self.N ,1))\n",
    "        elif degree - 1 < len(self.featureFunc):\n",
    "            return self.featureFunc[degree - 1](self.x)\n",
    "        \n",
    "        raise Exception('no such basic function at degree {}'.format(degree))\n",
    "        \n",
    "    def generate(self, genDummy = True):\n",
    "        start = 1\n",
    "        if genDummy: start = 0\n",
    "        stack = self._evaluate(start)\n",
    "        for i in range(start + 1, self.totalDegree):\n",
    "            stack = np.column_stack((stack, self._evaluate(i)))\n",
    "        return stack\n",
    "        "
   ]
  },
  {
   "cell_type": "code",
   "execution_count": null,
   "metadata": {},
   "outputs": [],
   "source": []
  }
 ],
 "metadata": {
  "kernelspec": {
   "display_name": "Python 3",
   "language": "python",
   "name": "python3"
  },
  "language_info": {
   "codemirror_mode": {
    "name": "ipython",
    "version": 3
   },
   "file_extension": ".py",
   "mimetype": "text/x-python",
   "name": "python",
   "nbconvert_exporter": "python",
   "pygments_lexer": "ipython3",
   "version": "3.7.4"
  }
 },
 "nbformat": 4,
 "nbformat_minor": 2
}
