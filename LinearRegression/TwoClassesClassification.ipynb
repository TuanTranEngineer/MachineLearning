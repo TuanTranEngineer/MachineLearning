{
 "cells": [
  {
   "cell_type": "code",
   "execution_count": 1,
   "metadata": {},
   "outputs": [],
   "source": [
    "import numpy as np\n",
    "from LinearClassification import TwoClassesClassification\n",
    "from BasisFunction import BaseBasicFunction\n",
    "import matplotlib.pyplot as plt\n",
    "import sklearn.datasets as skdata\n",
    "from sklearn.utils import shuffle\n",
    "\n",
    "def _shuffle(X, t):\n",
    "    X, t = shuffle(X, t.ravel())\n",
    "    t = t.reshape(-1, 1)\n",
    "    return (X, t)\n",
    "\n",
    "def __classify(x, t):\n",
    "    if t < 0.5:\n",
    "        return False\n",
    "    return True\n",
    "\n",
    "def _classify(X, t):\n",
    "    X1 = []\n",
    "    X0 = []\n",
    "    for i in range(len(t)):\n",
    "        if __classify(X[i], t[i]):\n",
    "            X1.append(X[i])\n",
    "        else:\n",
    "            X0.append(X[i])\n",
    "    return (np.array(X0), np.array(X1))"
   ]
  },
  {
   "cell_type": "code",
   "execution_count": 2,
   "metadata": {},
   "outputs": [],
   "source": [
    "Nsample = 200\n",
    "sampleNoise = 0.1"
   ]
  },
  {
   "cell_type": "code",
   "execution_count": 15,
   "metadata": {},
   "outputs": [
    {
     "name": "stdout",
     "output_type": "stream",
     "text": [
      "Training MSE = [[0.00235621]]\n",
      "[[ 4.66962072e+00]\n",
      " [-4.05259456e-01]\n",
      " [-6.89724613e+00]\n",
      " [-2.32133313e+00]\n",
      " [-9.51927652e+00]\n",
      " [ 9.90499842e-01]\n",
      " [-1.08764046e+00]\n",
      " [ 1.64443397e+00]\n",
      " [ 2.20781414e+00]\n",
      " [-3.59220368e+00]\n",
      " [-9.46265177e-01]\n",
      " [-1.82322191e+00]\n",
      " [-2.26039640e+00]\n",
      " [ 2.17521723e+00]\n",
      " [-9.50098322e-03]]\n"
     ]
    },
    {
     "data": {
      "image/png": "[encoded data removed]",
      "text/plain": [
       "<Figure size 432x288 with 1 Axes>"
      ]
     },
     "metadata": {
      "needs_background": "light"
     },
     "output_type": "display_data"
    }
   ],
   "source": [
    "X, t = skdata.make_moons(n_samples = Nsample, noise = sampleNoise, shuffle = False, random_state = 0)\n",
    "halfSample = int(Nsample/2)\n",
    "plt.scatter(X[:halfSample, 0], X[:halfSample, 1], c = 'r')\n",
    "plt.scatter(X[halfSample:, 0], X[halfSample:, 1], c = 'g')\n",
    "\n",
    "X, t = _shuffle(X, t)\n",
    "funcs = [\n",
    "    lambda x: x[:, 0],\n",
    "    lambda x: x[:, 1],\n",
    "    lambda x: np.multiply(x[:, 0], x[:, 1]),\n",
    "    lambda x: np.power(x[:, 0], 2),\n",
    "    lambda x: np.power(x[:, 1], 2),\n",
    "    lambda x: np.multiply(np.power(x[:, 0], 2), x[:, 1]),\n",
    "    lambda x: np.multiply(np.power(x[:, 1], 2), x[:, 0]),\n",
    "    lambda x: np.power(x[:, 0], 3),\n",
    "    lambda x: np.power(x[:, 1], 3),\n",
    "    lambda x: np.multiply(np.power(x[:, 0], 3), x[:, 1]),\n",
    "    lambda x: np.multiply(np.power(x[:, 1], 3), x[:, 0]),\n",
    "    lambda x: np.multiply(np.power(x[:, 0], 2), np.power(x[:, 1], 2)),\n",
    "    lambda x: np.power(x[:, 0], 4),\n",
    "    lambda x: np.power(x[:, 1], 4),\n",
    "]\n",
    "\n",
    "Xfeatures = BaseBasicFunction(X, funcs).generate()\n",
    "classifier = TwoClassesClassification(Xfeatures, t, Nepoch = 100, eta = 0.05).fit()\n",
    "print(classifier.w)"
   ]
  },
  {
   "cell_type": "code",
   "execution_count": 16,
   "metadata": {},
   "outputs": [
    {
     "name": "stdout",
     "output_type": "stream",
     "text": [
      "MSE for prediction = [[0.00951071]]\n"
     ]
    }
   ],
   "source": [
    "X, t = skdata.make_moons(n_samples = Nsample, noise = sampleNoise, shuffle = False, random_state = 100)\n",
    "halfSample = int(Nsample/2)\n",
    "\n",
    "Xfeatures = BaseBasicFunction(X, funcs).generate()\n",
    "\n",
    "prediction = classifier.predict(Xfeatures, t.reshape(-1, 1))"
   ]
  },
  {
   "cell_type": "code",
   "execution_count": 17,
   "metadata": {},
   "outputs": [
    {
     "name": "stdout",
     "output_type": "stream",
     "text": [
      "(48272, 2)\n",
      "(41728, 2)\n"
     ]
    },
    {
     "data": {
      "text/plain": [
       "<matplotlib.legend.Legend at 0x7f3861e068d0>"
      ]
     },
     "execution_count": 17,
     "metadata": {},
     "output_type": "execute_result"
    },
    {
     "data": {
      "image/png": "[encoded data removed]",
      "text/plain": [
       "<Figure size 432x288 with 1 Axes>"
      ]
     },
     "metadata": {
      "needs_background": "light"
     },
     "output_type": "display_data"
    }
   ],
   "source": [
    "xlim = (-1.2, 2.2)\n",
    "ylim = (-0.8, 1.3)\n",
    "X, t = skdata.make_moons(n_samples = Nsample, noise = sampleNoise, shuffle = False, random_state = 0)\n",
    "halfSample = int(Nsample/2)\n",
    "\n",
    "xplot = np.linspace(xlim[0], xlim[1], 300)\n",
    "yplot = np.linspace(ylim[0], ylim[1], 300)\n",
    "xgrid, ygrid = np.meshgrid(xplot, yplot)\n",
    "xgrid = xgrid.reshape(-1, 1)\n",
    "ygrid = ygrid.reshape(-1, 1)\n",
    "\n",
    "xygrid = np.hstack((xgrid, ygrid))\n",
    "xyFeatures = BaseBasicFunction(xygrid, funcs).generate()\n",
    "prediction = classifier.predict(xyFeatures)\n",
    "\n",
    "X0, X1 = _classify(xygrid, prediction)\n",
    "\n",
    "print(X0.shape)\n",
    "print(X1.shape)\n",
    "plt.scatter(X0[:, 0].ravel(), X0[:, 1].ravel(), c = 'y', marker = 's', s = 5)\n",
    "plt.scatter(X1[:, 0].ravel(), X1[:, 1].ravel(), c = 'c', marker = 's', s = 5)\n",
    "\n",
    "plt.scatter(X[:halfSample, 0], X[:halfSample, 1], c = 'r', label = \"class0\")\n",
    "plt.scatter(X[halfSample:, 0], X[halfSample:, 1], c = 'g', label = \"class1\")\n",
    "\n",
    "plt.xlim(xlim)\n",
    "plt.ylim(ylim)\n",
    "plt.legend()"
   ]
  },
  {
   "cell_type": "code",
   "execution_count": 24,
   "metadata": {},
   "outputs": [
    {
     "name": "stdout",
     "output_type": "stream",
     "text": [
      "Training MSE = [[0.12899316]]\n",
      "Training MSE = [[0.07392057]]\n",
      "Training MSE = [[0.00272742]]\n",
      "Training MSE = [[3.61716259e-05]]\n",
      "Training MSE = [[1.74225466e-07]]\n",
      "Training MSE = [[1.14141657e-11]]\n",
      "Training MSE = [[0.]]\n",
      "Training MSE = [[0.]]\n",
      "Training MSE = [[0.]]\n",
      "Training MSE = [[0.]]\n",
      "Training MSE = [[0.]]\n",
      "Training MSE = [[0.]]\n",
      "Training MSE = [[0.]]\n",
      "Training MSE = [[0.]]\n",
      "Training MSE = [[0.]]\n"
     ]
    },
    {
     "data": {
      "text/plain": [
       "<matplotlib.legend.Legend at 0x7f3862668e90>"
      ]
     },
     "execution_count": 24,
     "metadata": {},
     "output_type": "execute_result"
    },
    {
     "data": {
      "image/png": "[encoded data removed]",
      "text/plain": [
       "<Figure size 432x288 with 1 Axes>"
      ]
     },
     "metadata": {
      "needs_background": "light"
     },
     "output_type": "display_data"
    }
   ],
   "source": [
    "def trainAndTest(eta, xtrain, ytrain, xtest, ytest):\n",
    "    model = TwoClassesClassification(xtrain, ytrain, Nepoch = 100, eta = eta).fit()\n",
    "    trainErr = model.trainMSE()\n",
    "    prediction = model._predict(xtest)\n",
    "    testErr = model._mse(ytest, prediction)\n",
    "    return trainErr.item(), testErr.item()\n",
    "\n",
    "N_eta = 15\n",
    "baseEta = 0.0005\n",
    "\n",
    "Xeta_train, teta_train = skdata.make_moons(n_samples = Nsample, noise = sampleNoise, shuffle = True, random_state = 200)\n",
    "Xeta_train = BaseBasicFunction(Xeta_train, funcs).generate()\n",
    "teta_train = teta_train.reshape(-1, 1)\n",
    "\n",
    "Xeta_test, teta_test = skdata.make_moons(n_samples = Nsample, noise = sampleNoise, shuffle = True, random_state = 300)\n",
    "Xeta_test = BaseBasicFunction(Xeta_test, funcs).generate()\n",
    "teta_test = teta_test.reshape(-1, 1)\n",
    "\n",
    "mseLstTest = []\n",
    "mseLstTrain = []\n",
    "\n",
    "for i in range(N_eta):\n",
    "    eta = baseEta * (10**i)\n",
    "    trainErr, testErr = trainAndTest(eta, Xeta_train, teta_train, Xeta_test, teta_test)\n",
    "    mseLstTrain.append(trainErr)\n",
    "    mseLstTest.append(testErr)\n",
    "    \n",
    "    \n",
    "xLambPlot = np.array([i for i in range(N_eta)])\n",
    "mseLstTrain = np.array(mseLstTrain)\n",
    "mseLstTest = np.array(mseLstTest)\n",
    "\n",
    "plt.plot(xLambPlot, mseLstTrain, label = \"train error\")\n",
    "plt.plot(xLambPlot, mseLstTest, label = \"test error\")\n",
    "plt.scatter(xLambPlot, mseLstTrain, marker = 's')\n",
    "plt.scatter(xLambPlot, mseLstTest, marker = 's')\n",
    "plt.xlabel(\"{}*10^x\".format(baseEta))\n",
    "plt.ylabel(\"MSE\")\n",
    "plt.legend()"
   ]
  },
  {
   "cell_type": "code",
   "execution_count": null,
   "metadata": {},
   "outputs": [],
   "source": []
  }
 ],
 "metadata": {
  "kernelspec": {
   "display_name": "Python 3",
   "language": "python",
   "name": "python3"
  },
  "language_info": {
   "codemirror_mode": {
    "name": "ipython",
    "version": 3
   },
   "file_extension": ".py",
   "mimetype": "text/x-python",
   "name": "python",
   "nbconvert_exporter": "python",
   "pygments_lexer": "ipython3",
   "version": "3.7.4"
  }
 },
 "nbformat": 4,
 "nbformat_minor": 2
}
