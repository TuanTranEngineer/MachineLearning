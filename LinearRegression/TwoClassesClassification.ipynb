{
 "cells": [
  {
   "cell_type": "code",
   "execution_count": 1,
   "metadata": {},
   "outputs": [],
   "source": [
    "import numpy as np\n",
    "from LinearClassification import TwoClassesClassification\n",
    "from BasisFunction import BaseBasicFunction\n",
    "import matplotlib.pyplot as plt\n",
    "import sklearn.datasets as skdata\n",
    "from sklearn.utils import shuffle\n",
    "\n",
    "def _shuffle(X, t):\n",
    "    X, t = shuffle(X, t.ravel())\n",
    "    t = t.reshape(-1, 1)\n",
    "    return (X, t)\n",
    "\n",
    "def __classify(x, t):\n",
    "    if t < 0.5:\n",
    "        return False\n",
    "    return True\n",
    "\n",
    "def _classify(X, t):\n",
    "    X1 = []\n",
    "    X0 = []\n",
    "    for i in range(len(t)):\n",
    "        if __classify(X[i], t[i]):\n",
    "            X1.append(X[i])\n",
    "        else:\n",
    "            X0.append(X[i])\n",
    "    return (np.array(X0), np.array(X1))"
   ]
  },
  {
   "cell_type": "code",
   "execution_count": 2,
   "metadata": {},
   "outputs": [],
   "source": [
    "Nsample = 200\n",
    "sampleNoise = 0.1"
   ]
  },
  {
   "cell_type": "code",
   "execution_count": 3,
   "metadata": {},
   "outputs": [
    {
     "name": "stdout",
     "output_type": "stream",
     "text": [
      "Training MSE = [[0.00010413]]\n",
      "[[  7.73176347]\n",
      " [ -0.54761563]\n",
      " [ -7.57128311]\n",
      " [ -2.53836659]\n",
      " [-17.19361348]\n",
      " [  0.52861099]\n",
      " [ -7.69769164]\n",
      " [  0.52073187]\n",
      " [  2.98958873]\n",
      " [ -5.14097919]\n",
      " [ -0.92313035]\n",
      " [ -1.1062248 ]\n",
      " [ -2.37657108]\n",
      " [  4.57637956]\n",
      " [ -3.01019692]]\n"
     ]
    },
    {
     "data": {
      "image/png": "[encoded data removed]",
      "text/plain": [
       "<Figure size 432x288 with 1 Axes>"
      ]
     },
     "metadata": {
      "needs_background": "light"
     },
     "output_type": "display_data"
    }
   ],
   "source": [
    "X, t = skdata.make_moons(n_samples = Nsample, noise = sampleNoise, shuffle = False, random_state = 0)\n",
    "halfSample = int(Nsample/2)\n",
    "plt.scatter(X[:halfSample, 0], X[:halfSample, 1], c = 'r')\n",
    "plt.scatter(X[halfSample:, 0], X[halfSample:, 1], c = 'g')\n",
    "\n",
    "X, t = _shuffle(X, t)\n",
    "funcs = [\n",
    "    lambda x: x[:, 0],\n",
    "    lambda x: x[:, 1],\n",
    "    lambda x: np.multiply(x[:, 0], x[:, 1]),\n",
    "    lambda x: np.power(x[:, 0], 2),\n",
    "    lambda x: np.power(x[:, 1], 2),\n",
    "    lambda x: np.multiply(np.power(x[:, 0], 2), x[:, 1]),\n",
    "    lambda x: np.multiply(np.power(x[:, 1], 2), x[:, 0]),\n",
    "    lambda x: np.power(x[:, 0], 3),\n",
    "    lambda x: np.power(x[:, 1], 3),\n",
    "    lambda x: np.multiply(np.power(x[:, 0], 3), x[:, 1]),\n",
    "    lambda x: np.multiply(np.power(x[:, 1], 3), x[:, 0]),\n",
    "    lambda x: np.multiply(np.power(x[:, 0], 2), np.power(x[:, 1], 2)),\n",
    "    lambda x: np.power(x[:, 0], 4),\n",
    "    lambda x: np.power(x[:, 1], 4),\n",
    "]\n",
    "\n",
    "Xfeatures = BaseBasicFunction(X, funcs).generate()\n",
    "classifier = TwoClassesClassification(Xfeatures, t, Nepoch = 1000, eta = 0.05).fit()\n",
    "print(classifier.w)"
   ]
  },
  {
   "cell_type": "code",
   "execution_count": 6,
   "metadata": {},
   "outputs": [
    {
     "name": "stdout",
     "output_type": "stream",
     "text": [
      "MSE for prediction = [[0.00622286]]\n"
     ]
    }
   ],
   "source": [
    "X, t = skdata.make_moons(n_samples = Nsample, noise = sampleNoise, shuffle = False, random_state = 100)\n",
    "halfSample = int(Nsample/2)\n",
    "\n",
    "Xfeatures = BaseBasicFunction(X, funcs).generate()\n",
    "\n",
    "prediction = classifier.predict(Xfeatures, t.reshape(-1, 1))"
   ]
  },
  {
   "cell_type": "code",
   "execution_count": 7,
   "metadata": {},
   "outputs": [
    {
     "name": "stdout",
     "output_type": "stream",
     "text": [
      "(47476, 2)\n",
      "(42524, 2)\n"
     ]
    },
    {
     "data": {
      "text/plain": [
       "<matplotlib.legend.Legend at 0x7f40b0f48908>"
      ]
     },
     "execution_count": 7,
     "metadata": {},
     "output_type": "execute_result"
    },
    {
     "data": {
      "image/png": "[encoded data removed]",
      "text/plain": [
       "<Figure size 432x288 with 1 Axes>"
      ]
     },
     "metadata": {
      "needs_background": "light"
     },
     "output_type": "display_data"
    }
   ],
   "source": [
    "xlim = (-1.2, 2.2)\n",
    "ylim = (-0.8, 1.3)\n",
    "X, t = skdata.make_moons(n_samples = Nsample, noise = sampleNoise, shuffle = False, random_state = 0)\n",
    "halfSample = int(Nsample/2)\n",
    "\n",
    "xplot = np.linspace(xlim[0], xlim[1], 300)\n",
    "yplot = np.linspace(ylim[0], ylim[1], 300)\n",
    "xgrid, ygrid = np.meshgrid(xplot, yplot)\n",
    "xgrid = xgrid.reshape(-1, 1)\n",
    "ygrid = ygrid.reshape(-1, 1)\n",
    "\n",
    "xygrid = np.hstack((xgrid, ygrid))\n",
    "xyFeatures = BaseBasicFunction(xygrid, funcs).generate()\n",
    "prediction = classifier.predict(xyFeatures)\n",
    "\n",
    "X0, X1 = _classify(xygrid, prediction)\n",
    "\n",
    "print(X0.shape)\n",
    "print(X1.shape)\n",
    "plt.scatter(X0[:, 0].ravel(), X0[:, 1].ravel(), c = 'y', marker = 's', s = 5)\n",
    "plt.scatter(X1[:, 0].ravel(), X1[:, 1].ravel(), c = 'c', marker = 's', s = 5)\n",
    "\n",
    "plt.scatter(X[:halfSample, 0], X[:halfSample, 1], c = 'r', label = \"class0\")\n",
    "plt.scatter(X[halfSample:, 0], X[halfSample:, 1], c = 'g', label = \"class1\")\n",
    "\n",
    "plt.xlim(xlim)\n",
    "plt.ylim(ylim)\n",
    "plt.legend()"
   ]
  },
  {
   "cell_type": "code",
   "execution_count": null,
   "metadata": {},
   "outputs": [],
   "source": []
  }
 ],
 "metadata": {
  "kernelspec": {
   "display_name": "Python 3",
   "language": "python",
   "name": "python3"
  },
  "language_info": {
   "codemirror_mode": {
    "name": "ipython",
    "version": 3
   },
   "file_extension": ".py",
   "mimetype": "text/x-python",
   "name": "python",
   "nbconvert_exporter": "python",
   "pygments_lexer": "ipython3",
   "version": "3.7.3"
  }
 },
 "nbformat": 4,
 "nbformat_minor": 2
}
