{
 "cells": [
  {
   "cell_type": "code",
   "execution_count": 1,
   "metadata": {},
   "outputs": [],
   "source": [
    "import sys\n",
    "sys.path.insert(0, './../Libs/')\n",
    "import numpy as np\n",
    "from DecisionTree import SimpleDecisionTree"
   ]
  },
  {
   "cell_type": "code",
   "execution_count": 2,
   "metadata": {},
   "outputs": [
    {
     "name": "stdout",
     "output_type": "stream",
     "text": [
      "Outlook\n",
      "----Overcast: Leaf Yes\n",
      "----Rain: Wind\n",
      "--------Strong: Leaf No\n",
      "--------Weak: Leaf Yes\n",
      "----Sunny: Humidity\n",
      "--------High: Leaf No\n",
      "--------Normal: Leaf Yes\n",
      "\n",
      "No\n"
     ]
    }
   ],
   "source": [
    "attributes = np.array([\"Outlook\", \"Temperature\", \"Humidity\", \"Wind\"])\n",
    "data = np.array([\n",
    "        [\"Sunny\",       \"Hot\",      \"High\",     \"Weak\"      ],\n",
    "        [\"Sunny\",       \"Hot\",      \"High\",     \"Strong\"    ],\n",
    "        [\"Overcast\",    \"Hot\",      \"High\",     \"Weak\"      ],\n",
    "        [\"Rain\",        \"Mild\",     \"High\",     \"Weak\"      ],\n",
    "        [\"Rain\",        \"Cool\",     \"Normal\",   \"Weak\"      ],\n",
    "        [\"Rain\",        \"Cool\",     \"Normal\",   \"Strong\"    ],\n",
    "        [\"Overcast\",    \"Cool\",     \"Normal\",   \"Strong\"    ],\n",
    "        [\"Sunny\",       \"Mild\",     \"High\",     \"Weak\"      ],\n",
    "        [\"Sunny\",       \"Cool\",     \"Normal\",   \"Weak\"      ],\n",
    "        [\"Rain\",        \"Mild\",     \"Normal\",   \"Weak\"      ],\n",
    "        [\"Sunny\",       \"Mild\",     \"Normal\",   \"Strong\"    ],\n",
    "        [\"Overcast\",    \"Mild\",     \"High\",     \"Strong\"    ],\n",
    "        [\"Overcast\",    \"Hot\",      \"Normal\",   \"Weak\"      ],\n",
    "        [\"Rain\",        \"Mild\",     \"High\",     \"Strong\"    ],\n",
    "    ])\n",
    "\n",
    "target = np.array([\"No\", \"No\", \"Yes\", \"Yes\", \"Yes\", \"No\", \"Yes\", \"No\", \"Yes\", \"Yes\", \"Yes\", \"Yes\", \"Yes\", \"No\"]).reshape(-1, 1)\n",
    "\n",
    "dt = SimpleDecisionTree().fit(data, target, attributes)\n",
    "print(dt)\n",
    "\n",
    "print(dt.predict(np.array([\"Sunny\", \"Mild\", \"High\", \"Weak\"])))"
   ]
  }
 ],
 "metadata": {
  "kernelspec": {
   "display_name": "Python 3",
   "language": "python",
   "name": "python3"
  },
  "language_info": {
   "codemirror_mode": {
    "name": "ipython",
    "version": 3
   },
   "file_extension": ".py",
   "mimetype": "text/x-python",
   "name": "python",
   "nbconvert_exporter": "python",
   "pygments_lexer": "ipython3",
   "version": "3.7.4"
  }
 },
 "nbformat": 4,
 "nbformat_minor": 2
}
