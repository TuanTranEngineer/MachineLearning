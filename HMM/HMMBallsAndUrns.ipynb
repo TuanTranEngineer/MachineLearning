{
 "cells": [
  {
   "cell_type": "code",
   "execution_count": 1,
   "metadata": {},
   "outputs": [],
   "source": [
    "import sys\n",
    "sys.path.insert(0, './../Libs/')\n",
    "import numpy as np\n",
    "from HMM import HMMOptimizer\n",
    "from ProbDistributor import Distributor, GenerateDistributionMatrix"
   ]
  },
  {
   "cell_type": "code",
   "execution_count": 2,
   "metadata": {},
   "outputs": [],
   "source": [
    "AInit = np.array(\n",
    "    [\n",
    "        [0.1, 0.6, 0.3],\n",
    "        [0.7, 0.1, 0.2],\n",
    "        [0.3, 0.5, 0.2]\n",
    "    ])\n",
    "\n",
    "BInit = np.array(\n",
    "    [\n",
    "        [0.2, 0.1, 0.7],\n",
    "        [0.4, 0.1, 0.5],\n",
    "        [0.1, 0.6, 0.3]\n",
    "    ])\n",
    "\n",
    "piInit = np.array([0.3, 0.3, 0.4])"
   ]
  },
  {
   "cell_type": "code",
   "execution_count": 3,
   "metadata": {},
   "outputs": [],
   "source": [
    "def ExecuteBallsAndUrns(A, B, pi, NSteps):\n",
    "    states = []\n",
    "    observations = []\n",
    "    initState = Distributor(pi).Generate()\n",
    "    states.append(initState)\n",
    "    NSteps -= 1\n",
    "    AGen = [Distributor(a) for a in A]\n",
    "    BGen = [Distributor(b) for b in B]\n",
    "    observations.append(BGen[initState].Generate())\n",
    "    for _ in range(NSteps):\n",
    "        states.append(AGen[states[-1]].Generate())\n",
    "        observations.append(BGen[states[-1]].Generate())\n",
    "    return (states, observations)"
   ]
  },
  {
   "cell_type": "code",
   "execution_count": 8,
   "metadata": {},
   "outputs": [
    {
     "name": "stdout",
     "output_type": "stream",
     "text": [
      "States:\n",
      "[2, 1, 2, 1, 0, 1, 0, 1, 0, 2, 1, 0, 1, 1, 0, 2, 2, 2, 1, 0, 1, 0, 1, 2, 1, 0, 2, 2, 1, 0]\n",
      "Observations:\n",
      "[2, 1, 1, 2, 2, 0, 2, 0, 2, 2, 0, 2, 0, 0, 2, 1, 1, 1, 2, 2, 1, 2, 2, 0, 2, 2, 2, 2, 1, 2]\n"
     ]
    }
   ],
   "source": [
    "states, observations = ExecuteBallsAndUrns(AInit, BInit, piInit, 30)\n",
    "print(\"States:\\n{}\".format(states))\n",
    "print(\"Observations:\\n{}\".format(observations))"
   ]
  },
  {
   "cell_type": "code",
   "execution_count": 16,
   "metadata": {},
   "outputs": [
    {
     "name": "stdout",
     "output_type": "stream",
     "text": [
      "epsilon reached!, steps = 247\n",
      "A:\n",
      "[[8.17107120e-01 2.33830362e-31 1.82892880e-01]\n",
      " [2.51276734e-01 7.48723266e-01 2.25910334e-25]\n",
      " [4.55876629e-22 3.21785207e-01 6.78214793e-01]]\n",
      "B:\n",
      "[[1.27004408e-95 4.95997343e-01 5.04002657e-01]\n",
      " [4.23611930e-01 1.66376566e-64 5.76388070e-01]\n",
      " [3.20750859e-01 5.04793713e-23 6.79249141e-01]]\n",
      "pi:\n",
      "[1.00000000e+000 2.26579623e-142 0.00000000e+000]\n"
     ]
    }
   ],
   "source": [
    "opt = HMMOptimizer(NStates = 3, NObsStates = 3).fit(np.array(observations), 1000000)\n",
    "print(opt)"
   ]
  },
  {
   "cell_type": "code",
   "execution_count": null,
   "metadata": {},
   "outputs": [],
   "source": []
  }
 ],
 "metadata": {
  "kernelspec": {
   "display_name": "Python 3",
   "language": "python",
   "name": "python3"
  },
  "language_info": {
   "codemirror_mode": {
    "name": "ipython",
    "version": 3
   },
   "file_extension": ".py",
   "mimetype": "text/x-python",
   "name": "python",
   "nbconvert_exporter": "python",
   "pygments_lexer": "ipython3",
   "version": "3.7.4"
  }
 },
 "nbformat": 4,
 "nbformat_minor": 2
}
