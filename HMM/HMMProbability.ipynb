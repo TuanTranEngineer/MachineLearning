{
 "cells": [
  {
   "cell_type": "code",
   "execution_count": 2,
   "metadata": {},
   "outputs": [],
   "source": [
    "import sys\n",
    "sys.path.insert(0, './../Libs/')\n",
    "import numpy as np\n",
    "from HMM import HMMViterbiStatePredictor"
   ]
  },
  {
   "cell_type": "code",
   "execution_count": 3,
   "metadata": {},
   "outputs": [],
   "source": [
    "A = np.array(\n",
    "    [\n",
    "        [0.2, 0.4, 0.1, 0.3],\n",
    "        [0.1, 0.2, 0.3, 0.4],\n",
    "        [0.4, 0.3, 0.2, 0.1],\n",
    "        [0.1, 0.5, 0.2, 0.2]\n",
    "    ])\n",
    "\n",
    "B = np.array(\n",
    "    [\n",
    "        [0.3, 0.3, 0.4],\n",
    "        [0.2, 0.1, 0.7],\n",
    "        [0.4, 0.1, 0.5],\n",
    "        [0.1, 0.6, 0.3]\n",
    "    ])\n",
    "\n",
    "pi = np.array([0.25, 0.25, 0.25, 0.25])"
   ]
  },
  {
   "cell_type": "code",
   "execution_count": 5,
   "metadata": {},
   "outputs": [
    {
     "name": "stdout",
     "output_type": "stream",
     "text": [
      "alpha:\n",
      "[[7.50000000e-02 1.60000000e-02 1.20000000e-03 1.51200000e-04\n",
      "  1.81440000e-05 2.17728000e-06 6.96729600e-07 1.39345920e-07\n",
      "  1.39345920e-08]\n",
      " [5.00000000e-02 2.10000000e-02 6.40000000e-04 2.52000000e-04\n",
      "  3.02400000e-05 7.25760000e-06 3.48364800e-07 1.95084288e-07\n",
      "  3.90168576e-08]\n",
      " [1.00000000e-01 1.00000000e-02 6.30000000e-04 1.00800000e-04\n",
      "  1.20960000e-05 5.80608000e-06 8.70912000e-07 8.70912000e-08\n",
      "  2.92626432e-08]\n",
      " [2.50000000e-02 6.75000000e-03 5.04000000e-03 6.04800000e-04\n",
      "  7.25760000e-05 1.45152000e-06 2.90304000e-07 6.27056640e-08\n",
      "  2.34101146e-08]]\n",
      "theta:\n",
      "[[0. 2. 2. 3. 3. 3. 2. 2. 2.]\n",
      " [0. 0. 0. 3. 3. 3. 2. 0. 0.]\n",
      " [0. 2. 1. 3. 3. 3. 1. 2. 1.]\n",
      " [0. 0. 1. 3. 3. 3. 1. 0. 1.]]\n",
      "Fitting probability: 3.90168576e-08\n",
      "Path: [0, 2, 1, 3, 3, 3, 1, 0, 0]\n"
     ]
    }
   ],
   "source": [
    "viterbi = HMMViterbiStatePredictor(A, B, pi).fit([0, 2, 1, 1, 1, 0, 0, 2, 2])\n",
    "print(viterbi)\n",
    "print(\"Fitting probability: {}\".format(viterbi.getFittingProb()))\n",
    "print(\"Path: {}\".format(viterbi.getPath()))"
   ]
  },
  {
   "cell_type": "code",
   "execution_count": null,
   "metadata": {},
   "outputs": [],
   "source": []
  }
 ],
 "metadata": {
  "kernelspec": {
   "display_name": "Python 3",
   "language": "python",
   "name": "python3"
  },
  "language_info": {
   "codemirror_mode": {
    "name": "ipython",
    "version": 3
   },
   "file_extension": ".py",
   "mimetype": "text/x-python",
   "name": "python",
   "nbconvert_exporter": "python",
   "pygments_lexer": "ipython3",
   "version": "3.7.2"
  }
 },
 "nbformat": 4,
 "nbformat_minor": 2
}
