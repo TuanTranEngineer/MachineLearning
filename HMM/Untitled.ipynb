{
 "cells": [
  {
   "cell_type": "code",
   "execution_count": 1,
   "metadata": {},
   "outputs": [],
   "source": [
    "import sys\n",
    "sys.path.insert(0, './../Libs/')\n",
    "import numpy as np\n",
    "from HMM import HMMProbCalculator"
   ]
  },
  {
   "cell_type": "code",
   "execution_count": 2,
   "metadata": {},
   "outputs": [],
   "source": [
    "A = np.array(\n",
    "    [\n",
    "        [0.2, 0.4, 0.1, 0.3],\n",
    "        [0.1, 0.2, 0.3, 0.4],\n",
    "        [0.4, 0.3, 0.2, 0.1],\n",
    "        [0.1, 0.5, 0.2, 0.2]\n",
    "    ])\n",
    "\n",
    "B = np.array(\n",
    "    [\n",
    "        [0.3, 0.3, 0.4],\n",
    "        [0.2, 0.1, 0.7],\n",
    "        [0.4, 0.1, 0.5],\n",
    "        [0.1, 0.6, 0.3]\n",
    "    ])\n",
    "\n",
    "pi = np.array([0.25, 0.25, 0.25, 0.25])"
   ]
  },
  {
   "cell_type": "code",
   "execution_count": null,
   "metadata": {},
   "outputs": [],
   "source": []
  }
 ],
 "metadata": {
  "kernelspec": {
   "display_name": "Python 3",
   "language": "python",
   "name": "python3"
  },
  "language_info": {
   "codemirror_mode": {
    "name": "ipython",
    "version": 3
   },
   "file_extension": ".py",
   "mimetype": "text/x-python",
   "name": "python",
   "nbconvert_exporter": "python",
   "pygments_lexer": "ipython3",
   "version": "3.7.2"
  }
 },
 "nbformat": 4,
 "nbformat_minor": 2
}
