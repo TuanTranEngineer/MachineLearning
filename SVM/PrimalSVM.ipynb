{
 "cells": [
  {
   "cell_type": "code",
   "execution_count": 1,
   "metadata": {},
   "outputs": [],
   "source": [
    "import sys\n",
    "sys.path.insert(0, './../Libs/')\n",
    "import numpy as np\n",
    "from BasisFunction import BaseBasicFunction\n",
    "from SVM import PrimalSVM\n",
    "import matplotlib.pyplot as plt\n",
    "import sklearn.datasets as skdata\n",
    "from sklearn.utils import shuffle\n",
    "\n",
    "def _shuffle(X, t):\n",
    "    X, t = shuffle(X, t.ravel())\n",
    "    t = t.reshape(-1, 1)\n",
    "    return (X, t)\n",
    "\n",
    "def __t_convert(tsamples):\n",
    "    for i in tsamples:\n",
    "        yield (i - 0.5)*2"
   ]
  },
  {
   "cell_type": "code",
   "execution_count": 2,
   "metadata": {},
   "outputs": [],
   "source": [
    "sampleNoise = 0.2\n",
    "seed = 0\n",
    "Nsamples = 20\n",
    "NsamplesEachClass = int(Nsamples/2)\n",
    "\n",
    "centers = [\n",
    "    [0, 0],\n",
    "    [1, 1]\n",
    "]"
   ]
  },
  {
   "cell_type": "code",
   "execution_count": 3,
   "metadata": {},
   "outputs": [
    {
     "data": {
      "text/plain": [
       "<matplotlib.legend.Legend at 0x7fad9d5ad3d0>"
      ]
     },
     "execution_count": 3,
     "metadata": {},
     "output_type": "execute_result"
    },
    {
     "data": {
      "image/png": "[encoded data removed]",
      "text/plain": [
       "<Figure size 432x288 with 1 Axes>"
      ]
     },
     "metadata": {
      "needs_background": "light"
     },
     "output_type": "display_data"
    }
   ],
   "source": [
    "X, t = skdata.make_blobs(n_samples = [NsamplesEachClass, NsamplesEachClass], \n",
    "                         cluster_std = sampleNoise, random_state = seed, shuffle = False, centers = centers)\n",
    "\n",
    "plt.scatter(X[:NsamplesEachClass, 0], X[:NsamplesEachClass, 1], c = 'r', label = \"class -1\")\n",
    "plt.scatter(X[NsamplesEachClass:, 0], X[NsamplesEachClass:, 1], c = 'g', label = \"class 1\")\n",
    "plt.legend()"
   ]
  },
  {
   "cell_type": "code",
   "execution_count": 18,
   "metadata": {
    "scrolled": false
   },
   "outputs": [
    {
     "name": "stdout",
     "output_type": "stream",
     "text": [
      "done fitting, w = \n",
      "[[ 2.75828333]\n",
      " [ 1.74350076]\n",
      " [-2.32132713]]\n"
     ]
    },
    {
     "data": {
      "text/plain": [
       "<matplotlib.legend.Legend at 0x7fad8cd2f690>"
      ]
     },
     "execution_count": 18,
     "metadata": {},
     "output_type": "execute_result"
    },
    {
     "data": {
      "image/png": "[encoded data removed]",
      "text/plain": [
       "<Figure size 432x288 with 1 Axes>"
      ]
     },
     "metadata": {
      "needs_background": "light"
     },
     "output_type": "display_data"
    }
   ],
   "source": [
    "X, t = skdata.make_blobs(n_samples = [NsamplesEachClass, NsamplesEachClass], \n",
    "                         cluster_std = sampleNoise, random_state = seed, shuffle = False, centers = centers)\n",
    "\n",
    "plt.scatter(X[:NsamplesEachClass, 0], X[:NsamplesEachClass, 1], c = 'r', label = \"class -1\")\n",
    "plt.scatter(X[NsamplesEachClass:, 0], X[NsamplesEachClass:, 1], c = 'g', label = \"class 1\")\n",
    "\n",
    "X, t = _shuffle(X, t)\n",
    "t = np.array([i for i in __t_convert(t)]).reshape(-1, 1)\n",
    "svm = PrimalSVM(X, t).fit()\n",
    "\n",
    "w = svm.w.ravel()\n",
    "a, b, c = w\n",
    "slope = -a/b\n",
    "offset = -c/b\n",
    "\n",
    "w_xy = np.array([slope, offset]).reshape(-1, 1)\n",
    "Xdraw = np.linspace(-0.2, 1.6, 100).reshape(-1, 1)\n",
    "Xdraw_ = np.hstack((Xdraw, np.ones(100).reshape(-1, 1)))\n",
    "ydraw = Xdraw_.dot(w_xy)\n",
    "\n",
    "plt.plot(Xdraw, ydraw, label = \"split\")\n",
    "\n",
    "sv_points = svm.supportVectorPoints()\n",
    "Xmark = sv_points[:, 0].ravel()\n",
    "ymark = sv_points[:, 1].ravel()\n",
    "\n",
    "plt.scatter(Xmark, ymark, marker = 's', s=80, facecolors='none', edgecolors='k')\n",
    "plt.legend()"
   ]
  },
  {
   "cell_type": "code",
   "execution_count": null,
   "metadata": {},
   "outputs": [],
   "source": []
  }
 ],
 "metadata": {
  "kernelspec": {
   "display_name": "Python 3",
   "language": "python",
   "name": "python3"
  },
  "language_info": {
   "codemirror_mode": {
    "name": "ipython",
    "version": 3
   },
   "file_extension": ".py",
   "mimetype": "text/x-python",
   "name": "python",
   "nbconvert_exporter": "python",
   "pygments_lexer": "ipython3",
   "version": "3.7.4"
  }
 },
 "nbformat": 4,
 "nbformat_minor": 2
}
