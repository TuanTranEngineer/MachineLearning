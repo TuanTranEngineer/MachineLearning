{
 "cells": [
  {
   "cell_type": "code",
   "execution_count": 1,
   "metadata": {},
   "outputs": [],
   "source": [
    "import sys\n",
    "sys.path.insert(0, './../Libs/')\n",
    "import numpy as np\n",
    "from BasisFunction import BaseBasicFunction\n",
    "from SVM import DualitySVM, PrimalSVM\n",
    "from CircleGenerator import CircleGenerator\n",
    "import matplotlib.pyplot as plt\n",
    "import sklearn.datasets as skdata\n",
    "from sklearn.utils import shuffle\n",
    "\n",
    "def _shuffle(X, t):\n",
    "    X, t = shuffle(X, t.ravel())\n",
    "    t = t.reshape(-1, 1)\n",
    "    return (X, t)"
   ]
  },
  {
   "cell_type": "code",
   "execution_count": 2,
   "metadata": {},
   "outputs": [],
   "source": [
    "Nsamples = 200\n",
    "halfNsamples = int(Nsamples/2)\n",
    "circleCenter = (0, 0)\n",
    "noiseStd = 0.1\n",
    "R1 = 0.3\n",
    "R2 = 1.0\n",
    "\n",
    "funcs = [\n",
    "    lambda x: x[:, 0],\n",
    "    lambda x: x[:, 1],\n",
    "    lambda x: x[:, 0] * x[:, 1],\n",
    "    lambda x: x[:, 0] ** 2,\n",
    "    lambda x: x[:, 1] ** 2,\n",
    "    lambda x: (x[:, 0] ** 2) * x[:, 1],\n",
    "    lambda x: (x[:, 1] ** 2) * x[:, 0],\n",
    "#     lambda x: x[:, 0] ** 3,\n",
    "#     lambda x: x[:, 1] ** 3,\n",
    "#     lambda x: (x[:, 0] ** 3) * x[:, 1],\n",
    "#     lambda x: (x[:, 1] ** 3) * x[:, 0],\n",
    "#     lambda x: (x[:, 0] ** 2) * (x[:, 1] ** 2),\n",
    "#     lambda x: x[:, 0] ** 4,\n",
    "#     lambda x: x[:, 1] ** 4,\n",
    "]"
   ]
  },
  {
   "cell_type": "code",
   "execution_count": 3,
   "metadata": {},
   "outputs": [
    {
     "data": {
      "text/plain": [
       "<matplotlib.collections.PathCollection at 0x7f6aec88dfd0>"
      ]
     },
     "execution_count": 3,
     "metadata": {},
     "output_type": "execute_result"
    },
    {
     "data": {
      "image/png": "[encoded data removed]",
      "text/plain": [
       "<Figure size 432x288 with 1 Axes>"
      ]
     },
     "metadata": {
      "needs_background": "light"
     },
     "output_type": "display_data"
    }
   ],
   "source": [
    "X1 = CircleGenerator(circleCenter, R1, noiseStd).generate(halfNsamples)\n",
    "t1 = np.ones(halfNsamples).reshape(-1, 1)\n",
    "plt.scatter(X1[:, 0], X1[:, 1], c = 'b')\n",
    "\n",
    "X_1 = CircleGenerator(circleCenter, R2, noiseStd).generate(halfNsamples)\n",
    "t_1 = -np.ones(halfNsamples).reshape(-1, 1)\n",
    "plt.scatter(X_1[:, 0], X_1[:, 1], c = 'r')"
   ]
  },
  {
   "cell_type": "code",
   "execution_count": 4,
   "metadata": {},
   "outputs": [
    {
     "name": "stdout",
     "output_type": "stream",
     "text": [
      "done fitting, w = \n",
      "[[-0.0246449 ]\n",
      " [ 0.59026582]\n",
      " [-0.30525902]\n",
      " [-5.41640751]\n",
      " [-6.07159289]\n",
      " [ 0.65493844]\n",
      " [ 0.03830937]]\n",
      "b = 2.9890487358898237\n",
      "\n"
     ]
    }
   ],
   "source": [
    "X = np.vstack((X1, X_1))\n",
    "t = np.vstack((t1, t_1))\n",
    "X, t = _shuffle(X, t)\n",
    "Xfeatures = BaseBasicFunction(X, funcs).generate(False)\n",
    "\n",
    "svm = DualitySVM(Xfeatures, t).fit()"
   ]
  },
  {
   "cell_type": "code",
   "execution_count": 5,
   "metadata": {},
   "outputs": [
    {
     "data": {
      "text/plain": [
       "<matplotlib.collections.PathCollection at 0x7f6aea0803d0>"
      ]
     },
     "execution_count": 5,
     "metadata": {},
     "output_type": "execute_result"
    },
    {
     "data": {
      "image/png": "[encoded data removed]",
      "text/plain": [
       "<Figure size 432x288 with 1 Axes>"
      ]
     },
     "metadata": {
      "needs_background": "light"
     },
     "output_type": "display_data"
    }
   ],
   "source": [
    "def __classify(xy, t):\n",
    "    class1 = []\n",
    "    class_1 = []\n",
    "    for i in range(len(t)):\n",
    "        if t[i].item() > 0:\n",
    "            class1.append(xy[i])\n",
    "        else:\n",
    "            class_1.append(xy[i])\n",
    "    return (np.array(class1), np.array(class_1))\n",
    "\n",
    "xplot = np.linspace(-1.2, 1.2, 300)\n",
    "yplot = np.linspace(-1.2, 1.2, 300)\n",
    "xgrid, ygrid = np.meshgrid(xplot, yplot)\n",
    "xgrid = xgrid.reshape(-1, 1)\n",
    "ygrid = ygrid.reshape(-1, 1)\n",
    "\n",
    "xygrid = np.hstack((xgrid, ygrid))\n",
    "xygen = BaseBasicFunction(xygrid, funcs).generate(False)\n",
    "\n",
    "prediction = svm.predict(xygen)\n",
    "class1, class_1 = __classify(xygrid, prediction)\n",
    "\n",
    "plt.scatter(class1[:, 0], class1[:, 1], c = 'y', marker = 's', s = 1)\n",
    "\n",
    "X1 = CircleGenerator(circleCenter, R1, noiseStd).generate(halfNsamples)\n",
    "t1 = np.ones(halfNsamples).reshape(-1, 1)\n",
    "plt.scatter(X1[:, 0], X1[:, 1], c = 'b')\n",
    "\n",
    "X_1 = CircleGenerator(circleCenter, R2, noiseStd).generate(halfNsamples)\n",
    "t_1 = -np.ones(halfNsamples).reshape(-1, 1)\n",
    "plt.scatter(X_1[:, 0], X_1[:, 1], c = 'r')"
   ]
  },
  {
   "cell_type": "code",
   "execution_count": null,
   "metadata": {},
   "outputs": [],
   "source": []
  }
 ],
 "metadata": {
  "kernelspec": {
   "display_name": "Python 3",
   "language": "python",
   "name": "python3"
  },
  "language_info": {
   "codemirror_mode": {
    "name": "ipython",
    "version": 3
   },
   "file_extension": ".py",
   "mimetype": "text/x-python",
   "name": "python",
   "nbconvert_exporter": "python",
   "pygments_lexer": "ipython3",
   "version": "3.7.4"
  }
 },
 "nbformat": 4,
 "nbformat_minor": 2
}
